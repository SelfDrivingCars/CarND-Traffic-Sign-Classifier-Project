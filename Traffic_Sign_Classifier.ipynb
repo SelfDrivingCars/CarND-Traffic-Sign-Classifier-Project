{
 "cells": [
  {
   "cell_type": "markdown",
   "metadata": {},
   "source": [
    "# Self-Driving Car Engineer Nanodegree\n",
    "\n",
    "## Deep Learning\n",
    "\n",
    "## Project: Build a Traffic Sign Recognition Classifier\n",
    "\n",
    "In this notebook, a template is provided for you to implement your functionality in stages, which is required to successfully complete this project. If additional code is required that cannot be included in the notebook, be sure that the Python code is successfully imported and included in your submission if necessary. \n",
    "\n",
    "> **Note**: Once you have completed all of the code implementations, you need to finalize your work by exporting the iPython Notebook as an HTML document. Before exporting the notebook to html, all of the code cells need to have been run so that reviewers can see the final implementation and output. You can then export the notebook by using the menu above and navigating to  \\n\",\n",
    "    \"**File -> Download as -> HTML (.html)**. Include the finished document along with this notebook as your submission. \n",
    "\n",
    "In addition to implementing code, there is a writeup to complete. The writeup should be completed in a separate file, which can be either a markdown file or a pdf document. There is a [write up template](https://github.com/udacity/CarND-Traffic-Sign-Classifier-Project/blob/master/writeup_template.md) that can be used to guide the writing process. Completing the code template and writeup template will cover all of the [rubric points](https://review.udacity.com/#!/rubrics/481/view) for this project.\n",
    "\n",
    "The [rubric](https://review.udacity.com/#!/rubrics/481/view) contains \"Stand Out Suggestions\" for enhancing the project beyond the minimum requirements. The stand out suggestions are optional. If you decide to pursue the \"stand out suggestions\", you can include the code in this Ipython notebook and also discuss the results in the writeup file.\n",
    "\n",
    "\n",
    ">**Note:** Code and Markdown cells can be executed using the **Shift + Enter** keyboard shortcut. In addition, Markdown cells can be edited by typically double-clicking the cell to enter edit mode."
   ]
  },
  {
   "cell_type": "markdown",
   "metadata": {},
   "source": [
    "---\n",
    "## Step 0: Load The Data"
   ]
  },
  {
   "cell_type": "code",
   "execution_count": 1,
   "metadata": {
    "collapsed": false
   },
   "outputs": [],
   "source": [
    "# Load pickled data\n",
    "import pickle\n",
    "\n",
    "# TODO: Fill this in based on where you saved the training and testing data\n",
    "\n",
<<<<<<< HEAD
    "training_file = 'train.p'\n",
    "testing_file = 'test.p'\n",
=======
    "training_file = ?\n",
    "validation_file=?\n",
    "testing_file = ?\n",
>>>>>>> origin/master
    "\n",
    "with open(training_file, mode='rb') as f:\n",
    "    train = pickle.load(f)\n",
    "with open(validation_file, mode='rb') as f:\n",
    "    valid = pickle.load(f)\n",
    "with open(testing_file, mode='rb') as f:\n",
    "    test = pickle.load(f)\n",
    "    \n",
    "X_train, y_train = train['features'], train['labels']\n",
<<<<<<< HEAD
    "X_test, y_test = test['features'], test['labels']\n",
    "assert(len(X_train) == len(y_train))\n",
    "#assert(len(X_validation) == len(y_validation))\n",
    "assert(len(X_test) == len(y_test))"
=======
    "X_valid, y_valid = valid['features'], valid['labels']\n",
    "X_test, y_test = test['features'], test['labels']"
>>>>>>> origin/master
   ]
  },
  {
   "cell_type": "markdown",
   "metadata": {},
   "source": [
    "---\n",
    "\n",
    "## Step 1: Dataset Summary & Exploration\n",
    "\n",
    "The pickled data is a dictionary with 4 key/value pairs:\n",
    "\n",
    "- `'features'` is a 4D array containing raw pixel data of the traffic sign images, (num examples, width, height, channels).\n",
    "- `'labels'` is a 1D array containing the label/class id of the traffic sign. The file `signnames.csv` contains id -> name mappings for each id.\n",
    "- `'sizes'` is a list containing tuples, (width, height) representing the the original width and height the image.\n",
    "- `'coords'` is a list containing tuples, (x1, y1, x2, y2) representing coordinates of a bounding box around the sign in the image. **THESE COORDINATES ASSUME THE ORIGINAL IMAGE. THE PICKLED DATA CONTAINS RESIZED VERSIONS (32 by 32) OF THESE IMAGES**\n",
    "\n",
    "Complete the basic data summary below. Use python, numpy and/or pandas methods to calculate the data summary rather than hard coding the results. For example, the [pandas shape method](http://pandas.pydata.org/pandas-docs/stable/generated/pandas.DataFrame.shape.html) might be useful for calculating some of the summary results. "
   ]
  },
  {
   "cell_type": "markdown",
   "metadata": {},
   "source": [
    "### Provide a Basic Summary of the Data Set Using Python, Numpy and/or Pandas"
   ]
  },
  {
   "cell_type": "code",
   "execution_count": 2,
   "metadata": {
    "collapsed": false,
    "scrolled": true
   },
   "outputs": [
    {
     "name": "stdout",
     "output_type": "stream",
     "text": [
      "Number of training examples = 39209\n",
      "Number of testing examples = 12630\n",
      "Image data shape = [32, 32, 3]\n",
      "Number of classes = 43\n"
     ]
    }
   ],
   "source": [
<<<<<<< HEAD
    "### Replace each question mark with the appropriate value.\n",
=======
    "### Replace each question mark with the appropriate value. \n",
    "### Use python, pandas or numpy methods rather than hard coding the results\n",
    "\n",
>>>>>>> origin/master
    "# TODO: Number of training examples\n",
    "n_train = 39209\n",
    "\n",
    "# TODO: Number of testing examples.\n",
    "n_test = 12630\n",
    "\n",
    "# TODO: What's the shape of an traffic sign image?\n",
    "image_shape = [32,32,3]\n",
    "\n",
    "# TODO: How many unique classes/labels there are in the dataset.\n",
    "n_classes = 43\n",
    "\n",
    "print(\"Number of training examples =\", n_train)\n",
    "print(\"Number of testing examples =\", n_test)\n",
    "print(\"Image data shape =\", image_shape)\n",
    "print(\"Number of classes =\", n_classes)"
   ]
  },
  {
   "cell_type": "markdown",
   "metadata": {},
   "source": [
    "### Include an exploratory visualization of the dataset"
   ]
  },
  {
   "cell_type": "markdown",
   "metadata": {},
   "source": [
    "Visualize the German Traffic Signs Dataset using the pickled file(s). This is open ended, suggestions include: plotting traffic sign images, plotting the count of each sign, etc.\n",
    "\n",
    "The [Matplotlib](http://matplotlib.org/) [examples](http://matplotlib.org/examples/index.html) and [gallery](http://matplotlib.org/gallery.html) pages are a great resource for doing visualizations in Python.\n",
    "\n",
    "**NOTE:** It's recommended you start with something simple first. If you wish to do more, come back to it after you've completed the rest of the sections."
   ]
  },
  {
   "cell_type": "code",
<<<<<<< HEAD
   "execution_count": 3,
=======
   "execution_count": 16,
>>>>>>> origin/master
   "metadata": {
    "collapsed": false
   },
   "outputs": [],
   "source": [
<<<<<<< HEAD
    "#importing the classes legend from the csv file\n",
    "import numpy as np\n",
    "label_data = np.genfromtxt('signnames.csv', delimiter=',',dtype=None,deletechars='b')\n",
    "label_data=label_data[1:]\n"
   ]
  },
  {
   "cell_type": "code",
   "execution_count": 4,
   "metadata": {
    "collapsed": false
   },
   "outputs": [
    {
     "name": "stdout",
     "output_type": "stream",
     "text": [
      "[b'18' b'General caution']\n"
     ]
    },
    {
     "data": {
      "image/png": "iVBORw0KGgoAAAANSUhEUgAAAH4AAAB6CAYAAAB5sueeAAAABHNCSVQICAgIfAhkiAAAAAlwSFlz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\nAAAAAElFTkSuQmCC\n",
      "text/plain": [
       "<matplotlib.figure.Figure at 0x126d47b0da0>"
      ]
     },
     "metadata": {},
     "output_type": "display_data"
    }
   ],
   "source": [
    "### Data exploration visualization goes here.\n",
=======
    "### Data exploration visualization code goes here.\n",
>>>>>>> origin/master
    "### Feel free to use as many code cells as needed.\n",
    "import random\n",
    "import numpy as np\n",
    "import matplotlib.pyplot as plt\n",
    "# Visualizations will be shown in the notebook.\n",
    "%matplotlib inline\n",
    "index = random.randint(0, len(X_train))\n",
    "image = X_train[index].squeeze()\n",
    "plt.figure(figsize=(1,1))\n",
    "plt.imshow(image)\n",
    "print(label_data[y_train[index]])"
   ]
  },
  {
   "cell_type": "markdown",
   "metadata": {},
   "source": [
    "----\n",
    "\n",
    "## Step 2: Design and Test a Model Architecture\n",
    "\n",
    "Design and implement a deep learning model that learns to recognize traffic signs. Train and test your model on the [German Traffic Sign Dataset](http://benchmark.ini.rub.de/?section=gtsrb&subsection=dataset).\n",
    "\n",
    "There are various aspects to consider when thinking about this problem:\n",
    "\n",
    "- Neural network architecture\n",
    "- Play around preprocessing techniques (normalization, rgb to grayscale, etc)\n",
    "- Number of examples per label (some have more than others).\n",
    "- Generate fake data.\n",
    "\n",
    "Here is an example of a [published baseline model on this problem](http://yann.lecun.com/exdb/publis/pdf/sermanet-ijcnn-11.pdf). It's not required to be familiar with the approach used in the paper but, it's good practice to try to read papers like these.\n",
    "\n",
    "**NOTE:** The LeNet-5 implementation shown in the [classroom](https://classroom.udacity.com/nanodegrees/nd013/parts/fbf77062-5703-404e-b60c-95b78b2f3f9e/modules/6df7ae49-c61c-4bb2-a23e-6527e69209ec/lessons/601ae704-1035-4287-8b11-e2c2716217ad/concepts/d4aca031-508f-4e0b-b493-e7b706120f81) at the end of the CNN lesson is a solid starting point. You'll have to change the number of classes and possibly the preprocessing, but aside from that it's plug and play!"
   ]
  },
  {
   "cell_type": "markdown",
   "metadata": {},
   "source": [
<<<<<<< HEAD
    "### Implementation\n",
    "\n",
    "Use the code cell (or multiple code cells, if necessary) to implement the first step of your project. Once you have completed your implementation and are satisfied with the results, be sure to thoroughly answer the questions that follow."
   ]
  },
  {
   "cell_type": "markdown",
   "metadata": {
    "collapsed": true
   },
   "source": [
    "### Preprocessing of the training data\n"
   ]
  },
  {
   "cell_type": "code",
   "execution_count": 43,
   "metadata": {
    "collapsed": false
   },
   "outputs": [
    {
     "ename": "TypeError",
     "evalue": "Image data can not convert to float",
     "output_type": "error",
     "traceback": [
      "\u001b[0;31m---------------------------------------------------------------------------\u001b[0m",
      "\u001b[0;31mTypeError\u001b[0m                                 Traceback (most recent call last)",
      "\u001b[0;32m<ipython-input-43-05346f0050e7>\u001b[0m in \u001b[0;36m<module>\u001b[0;34m()\u001b[0m\n\u001b[1;32m      3\u001b[0m \u001b[1;33m\u001b[0m\u001b[0m\n\u001b[1;32m      4\u001b[0m \u001b[0mplt\u001b[0m\u001b[1;33m.\u001b[0m\u001b[0mfigure\u001b[0m\u001b[1;33m(\u001b[0m\u001b[0mfigsize\u001b[0m\u001b[1;33m=\u001b[0m\u001b[1;33m(\u001b[0m\u001b[1;36m1\u001b[0m\u001b[1;33m,\u001b[0m\u001b[1;36m1\u001b[0m\u001b[1;33m)\u001b[0m\u001b[1;33m)\u001b[0m\u001b[1;33m\u001b[0m\u001b[0m\n\u001b[0;32m----> 5\u001b[0;31m \u001b[0mplt\u001b[0m\u001b[1;33m.\u001b[0m\u001b[0mimshow\u001b[0m\u001b[1;33m(\u001b[0m\u001b[0mimage\u001b[0m\u001b[1;33m)\u001b[0m\u001b[1;33m\u001b[0m\u001b[0m\n\u001b[0m\u001b[1;32m      6\u001b[0m \u001b[0mprint\u001b[0m\u001b[1;33m(\u001b[0m\u001b[0mlabel_data\u001b[0m\u001b[1;33m[\u001b[0m\u001b[0my_train\u001b[0m\u001b[1;33m[\u001b[0m\u001b[0mindex\u001b[0m\u001b[1;33m]\u001b[0m\u001b[1;33m]\u001b[0m\u001b[1;33m)\u001b[0m\u001b[1;33m\u001b[0m\u001b[0m\n",
      "\u001b[0;32mC:\\Users\\doront\\AppData\\Local\\Continuum\\Anaconda3\\lib\\site-packages\\matplotlib\\pyplot.py\u001b[0m in \u001b[0;36mimshow\u001b[0;34m(X, cmap, norm, aspect, interpolation, alpha, vmin, vmax, origin, extent, shape, filternorm, filterrad, imlim, resample, url, hold, data, **kwargs)\u001b[0m\n\u001b[1;32m   3027\u001b[0m                         \u001b[0mfilternorm\u001b[0m\u001b[1;33m=\u001b[0m\u001b[0mfilternorm\u001b[0m\u001b[1;33m,\u001b[0m \u001b[0mfilterrad\u001b[0m\u001b[1;33m=\u001b[0m\u001b[0mfilterrad\u001b[0m\u001b[1;33m,\u001b[0m\u001b[1;33m\u001b[0m\u001b[0m\n\u001b[1;32m   3028\u001b[0m                         \u001b[0mimlim\u001b[0m\u001b[1;33m=\u001b[0m\u001b[0mimlim\u001b[0m\u001b[1;33m,\u001b[0m \u001b[0mresample\u001b[0m\u001b[1;33m=\u001b[0m\u001b[0mresample\u001b[0m\u001b[1;33m,\u001b[0m \u001b[0murl\u001b[0m\u001b[1;33m=\u001b[0m\u001b[0murl\u001b[0m\u001b[1;33m,\u001b[0m \u001b[0mdata\u001b[0m\u001b[1;33m=\u001b[0m\u001b[0mdata\u001b[0m\u001b[1;33m,\u001b[0m\u001b[1;33m\u001b[0m\u001b[0m\n\u001b[0;32m-> 3029\u001b[0;31m                         **kwargs)\n\u001b[0m\u001b[1;32m   3030\u001b[0m     \u001b[1;32mfinally\u001b[0m\u001b[1;33m:\u001b[0m\u001b[1;33m\u001b[0m\u001b[0m\n\u001b[1;32m   3031\u001b[0m         \u001b[0max\u001b[0m\u001b[1;33m.\u001b[0m\u001b[0mhold\u001b[0m\u001b[1;33m(\u001b[0m\u001b[0mwashold\u001b[0m\u001b[1;33m)\u001b[0m\u001b[1;33m\u001b[0m\u001b[0m\n",
      "\u001b[0;32mC:\\Users\\doront\\AppData\\Local\\Continuum\\Anaconda3\\lib\\site-packages\\matplotlib\\__init__.py\u001b[0m in \u001b[0;36minner\u001b[0;34m(ax, *args, **kwargs)\u001b[0m\n\u001b[1;32m   1816\u001b[0m                     warnings.warn(msg % (label_namer, func.__name__),\n\u001b[1;32m   1817\u001b[0m                                   RuntimeWarning, stacklevel=2)\n\u001b[0;32m-> 1818\u001b[0;31m             \u001b[1;32mreturn\u001b[0m \u001b[0mfunc\u001b[0m\u001b[1;33m(\u001b[0m\u001b[0max\u001b[0m\u001b[1;33m,\u001b[0m \u001b[1;33m*\u001b[0m\u001b[0margs\u001b[0m\u001b[1;33m,\u001b[0m \u001b[1;33m**\u001b[0m\u001b[0mkwargs\u001b[0m\u001b[1;33m)\u001b[0m\u001b[1;33m\u001b[0m\u001b[0m\n\u001b[0m\u001b[1;32m   1819\u001b[0m         \u001b[0mpre_doc\u001b[0m \u001b[1;33m=\u001b[0m \u001b[0minner\u001b[0m\u001b[1;33m.\u001b[0m\u001b[0m__doc__\u001b[0m\u001b[1;33m\u001b[0m\u001b[0m\n\u001b[1;32m   1820\u001b[0m         \u001b[1;32mif\u001b[0m \u001b[0mpre_doc\u001b[0m \u001b[1;32mis\u001b[0m \u001b[1;32mNone\u001b[0m\u001b[1;33m:\u001b[0m\u001b[1;33m\u001b[0m\u001b[0m\n",
      "\u001b[0;32mC:\\Users\\doront\\AppData\\Local\\Continuum\\Anaconda3\\lib\\site-packages\\matplotlib\\axes\\_axes.py\u001b[0m in \u001b[0;36mimshow\u001b[0;34m(self, X, cmap, norm, aspect, interpolation, alpha, vmin, vmax, origin, extent, shape, filternorm, filterrad, imlim, resample, url, **kwargs)\u001b[0m\n\u001b[1;32m   4920\u001b[0m                               resample=resample, **kwargs)\n\u001b[1;32m   4921\u001b[0m \u001b[1;33m\u001b[0m\u001b[0m\n\u001b[0;32m-> 4922\u001b[0;31m         \u001b[0mim\u001b[0m\u001b[1;33m.\u001b[0m\u001b[0mset_data\u001b[0m\u001b[1;33m(\u001b[0m\u001b[0mX\u001b[0m\u001b[1;33m)\u001b[0m\u001b[1;33m\u001b[0m\u001b[0m\n\u001b[0m\u001b[1;32m   4923\u001b[0m         \u001b[0mim\u001b[0m\u001b[1;33m.\u001b[0m\u001b[0mset_alpha\u001b[0m\u001b[1;33m(\u001b[0m\u001b[0malpha\u001b[0m\u001b[1;33m)\u001b[0m\u001b[1;33m\u001b[0m\u001b[0m\n\u001b[1;32m   4924\u001b[0m         \u001b[1;32mif\u001b[0m \u001b[0mim\u001b[0m\u001b[1;33m.\u001b[0m\u001b[0mget_clip_path\u001b[0m\u001b[1;33m(\u001b[0m\u001b[1;33m)\u001b[0m \u001b[1;32mis\u001b[0m \u001b[1;32mNone\u001b[0m\u001b[1;33m:\u001b[0m\u001b[1;33m\u001b[0m\u001b[0m\n",
      "\u001b[0;32mC:\\Users\\doront\\AppData\\Local\\Continuum\\Anaconda3\\lib\\site-packages\\matplotlib\\image.py\u001b[0m in \u001b[0;36mset_data\u001b[0;34m(self, A)\u001b[0m\n\u001b[1;32m    447\u001b[0m         if (self._A.dtype != np.uint8 and\n\u001b[1;32m    448\u001b[0m                 not np.can_cast(self._A.dtype, np.float)):\n\u001b[0;32m--> 449\u001b[0;31m             \u001b[1;32mraise\u001b[0m \u001b[0mTypeError\u001b[0m\u001b[1;33m(\u001b[0m\u001b[1;34m\"Image data can not convert to float\"\u001b[0m\u001b[1;33m)\u001b[0m\u001b[1;33m\u001b[0m\u001b[0m\n\u001b[0m\u001b[1;32m    450\u001b[0m \u001b[1;33m\u001b[0m\u001b[0m\n\u001b[1;32m    451\u001b[0m         if (self._A.ndim not in (2, 3) or\n",
      "\u001b[0;31mTypeError\u001b[0m: Image data can not convert to float"
     ]
    },
    {
     "data": {
      "image/png": "iVBORw0KGgoAAAANSUhEUgAAAIgAAAB8CAYAAACyufhdAAAABHNCSVQICAgIfAhkiAAAAAlwSFlz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\n",
      "text/plain": [
       "<matplotlib.figure.Figure at 0x1278adbda20>"
      ]
     },
     "metadata": {},
     "output_type": "display_data"
    }
   ],
   "source": [
    "index = random.randint(0, len(X_train))\n",
    "image = X_train[index]\n",
    "\n",
    "plt.figure(figsize=(1,1))\n",
    "plt.imshow(image)\n",
    "print(label_data[y_train[index]])"
   ]
  },
  {
   "cell_type": "code",
   "execution_count": 41,
   "metadata": {
    "collapsed": false
   },
   "outputs": [],
   "source": [
    "import cv2\n",
    "def Normilize_image (image):\n",
    "           \n",
    "    return  tf.image.per_image_standardization(image)\n",
    "# credit to https://carnd-forums.udacity.com/questions/26216649/problem-when-converting-to-gray\n",
    "#X_train_post = [] \n",
    "#np.zeros([X_train.shape[0], X_train.shape[1], X_train.shape[2]])\n",
    "\n",
    "for index in range (len(X_train)):\n",
    "    X_train_post.append(Normilize_image(X_train[index]))\n",
    "    \n",
    "\n",
    "X_train=X_train_post\n",
    "# credit to https://carnd-forums.udacity.com/questions/26216649/problem-when-converting-to-gray\n",
    "X_test_post = []\n",
    "\n",
    "for index in range (len(X_test)):   \n",
    "    X_test_post.append(Normilize_image(X_test[index]))\n",
    "    \n",
    "X_test=X_test_post"
   ]
  },
  {
   "cell_type": "markdown",
   "metadata": {
    "collapsed": true
   },
   "source": [
    "### CNN Architecture and training variables\n"
   ]
  },
  {
   "cell_type": "code",
   "execution_count": 44,
   "metadata": {
    "collapsed": true
   },
   "outputs": [],
   "source": [
    "from sklearn.utils import shuffle\n",
    "import tensorflow as tf\n",
    "from tensorflow.contrib.layers import flatten\n",
    "\n",
    "EPOCHS = 10\n",
    "BATCH_SIZE = 128\n",
    "LEARN_RATE = 0.001"
   ]
  },
  {
   "cell_type": "code",
   "execution_count": 45,
   "metadata": {
    "collapsed": false
   },
   "outputs": [],
   "source": [
    "\n",
    "\n",
    "#starting from my LeNet model from the LeNet lab\n",
    "\n",
    "def LeNet(x):    \n",
    "    # Arguments used for tf.truncated_normal, randomly defines variables for the weights and biases for each layer\n",
    "    mu = 0\n",
    "    sigma = 0.1\n",
    "    \n",
    "    \n",
    "    # TODO: Layer 1: Convolutional. Input = 32x32x3. Output = 28x28x6.\n",
    "    CW1 = tf.Variable(tf.truncated_normal(shape=(5,5,3,6), mean = mu, stddev = sigma))\n",
    "    CB1 = tf.Variable(tf.zeros(6))\n",
    "    CS1 = [1,1,1,1]\n",
    "    CP1 = 'VALID'\n",
    "    clayer1 = tf.nn.conv2d(x,CW1, CS1, CP1)\n",
    "    clayer1 = tf.nn.bias_add(clayer1,CB1 )\n",
    "    # TODO: Activation.\n",
    "    clayer1 = tf.nn.relu(clayer1)\n",
    "    # TODO: Pooling. Input = 28x28x6. Output = 14x14x6.\n",
    "    clayer1 = tf.nn.max_pool(clayer1,ksize=[1, 2, 2, 1],strides=[1, 2, 2, 1],padding='VALID')\n",
    "    # TODO: Layer 2: Convolutional. Output = 10x10x16.\n",
    "    CW2 = tf.Variable(tf.truncated_normal(shape=(5,5,6,16), mean = mu, stddev = sigma))\n",
    "    CB2 = tf.Variable(tf.zeros(16))\n",
    "    CS2 = [1,1,1,1]\n",
    "    CP2 = 'VALID'\n",
    "    clayer2 = tf.nn.conv2d(clayer1,CW2, CS2, CP2)\n",
    "    clayer2 = tf.nn.bias_add(clayer2,CB2 )\n",
    "    # TODO: Activation.\n",
    "    clayer2 = tf.nn.relu(clayer2)\n",
    "    # TODO: Pooling. Input = 10x10x16. Output = 5x5x16.\n",
    "    clayer2 = tf.nn.max_pool(clayer2,ksize=[1, 2, 2, 1],strides=[1, 2, 2, 1],padding='VALID')\n",
    "    # TODO: Flatten. Input = 5x5x16. Output = 400.\n",
    "    clayer2_flat = flatten(clayer2)\n",
    "    # TODO: Layer 3: Fully Connected. Input = 400. Output = 120.\n",
    "    DW1 = tf.Variable(tf.truncated_normal([400,120]))\n",
    "    DB1 =  tf.Variable(tf.zeros(120))\n",
    "    dlayer1 = tf.add(tf.matmul(clayer2_flat,DW1),DB1)\n",
    "    # TODO: Activation.\n",
    "    dlayer1 = tf.nn.relu(dlayer1)\n",
    "    # TODO: Layer 4: Fully Connected. Input = 120. Output = 84.\n",
    "    DW2 = tf.Variable(tf.truncated_normal([120,84]))\n",
    "    DB2 =  tf.Variable(tf.zeros(84))\n",
    "    dlayer2 = tf.add(tf.matmul(dlayer1,DW2),DB2)\n",
    "    # TODO: Activation.\n",
    "    dlayer2 = tf.nn.relu(dlayer2)\n",
    "    # TODO: Layer 5: Fully Connected. Input = 84. Output = 10.\n",
    "    DW3 = tf.Variable(tf.truncated_normal([84,43]))\n",
    "    DB3 =  tf.Variable(tf.zeros(43))\n",
    "    logits = tf.add(tf.matmul(dlayer2,DW3),DB3)\n",
    "    return logits"
   ]
  },
  {
   "cell_type": "code",
   "execution_count": 46,
   "metadata": {
    "collapsed": true
   },
   "outputs": [],
   "source": [
    "x = tf.placeholder(tf.float32, (None, 32, 32,3))\n",
    "y = tf.placeholder(tf.int32, (None))\n",
    "one_hot_y = tf.one_hot(y, 43)"
   ]
  },
  {
   "cell_type": "code",
   "execution_count": 47,
   "metadata": {
    "collapsed": false
   },
   "outputs": [],
   "source": [
    "logits = LeNet(x)\n",
    "cross_entropy = tf.nn.softmax_cross_entropy_with_logits(logits, one_hot_y)\n",
    "loss_operation = tf.reduce_mean(cross_entropy)\n",
    "optimizer = tf.train.AdamOptimizer(learning_rate = LEARN_RATE)\n",
    "training_operation = optimizer.minimize(loss_operation)"
   ]
  },
  {
   "cell_type": "code",
   "execution_count": 48,
   "metadata": {
    "collapsed": true
   },
   "outputs": [],
   "source": [
    "correct_prediction = tf.equal(tf.argmax(logits, 1), tf.argmax(one_hot_y, 1))\n",
    "accuracy_operation = tf.reduce_mean(tf.cast(correct_prediction, tf.float32))\n",
    "saver = tf.train.Saver()\n",
    "\n",
    "def evaluate(X_data, y_data):\n",
    "    num_examples = len(X_data)\n",
    "    total_accuracy = 0\n",
    "    sess = tf.get_default_session()\n",
    "    for offset in range(0, num_examples, BATCH_SIZE):\n",
    "        batch_x, batch_y = X_data[offset:offset+BATCH_SIZE], y_data[offset:offset+BATCH_SIZE]\n",
    "        accuracy = sess.run(accuracy_operation, feed_dict={x: batch_x, y: batch_y})\n",
    "        total_accuracy += (accuracy * len(batch_x))\n",
    "    return total_accuracy / num_examples"
   ]
  },
  {
   "cell_type": "markdown",
   "metadata": {
    "collapsed": true
   },
   "source": [
    "### Running training and validation\n"
   ]
  },
  {
   "cell_type": "code",
   "execution_count": 49,
   "metadata": {
    "collapsed": false,
    "scrolled": true
   },
   "outputs": [
    {
     "name": "stdout",
     "output_type": "stream",
     "text": [
      "Training...\n",
      "\n"
     ]
    },
    {
     "ename": "ValueError",
     "evalue": "setting an array element with a sequence.",
     "output_type": "error",
     "traceback": [
      "\u001b[0;31m---------------------------------------------------------------------------\u001b[0m",
      "\u001b[0;31mValueError\u001b[0m                                Traceback (most recent call last)",
      "\u001b[0;32m<ipython-input-49-7f03a45e768e>\u001b[0m in \u001b[0;36m<module>\u001b[0;34m()\u001b[0m\n\u001b[1;32m     14\u001b[0m             \u001b[0mend\u001b[0m \u001b[1;33m=\u001b[0m \u001b[0moffset\u001b[0m \u001b[1;33m+\u001b[0m \u001b[0mBATCH_SIZE\u001b[0m\u001b[1;33m\u001b[0m\u001b[0m\n\u001b[1;32m     15\u001b[0m             \u001b[0mbatch_x\u001b[0m\u001b[1;33m,\u001b[0m \u001b[0mbatch_y\u001b[0m \u001b[1;33m=\u001b[0m \u001b[0mX_train\u001b[0m\u001b[1;33m[\u001b[0m\u001b[0moffset\u001b[0m\u001b[1;33m:\u001b[0m\u001b[0mend\u001b[0m\u001b[1;33m]\u001b[0m\u001b[1;33m,\u001b[0m \u001b[0my_train\u001b[0m\u001b[1;33m[\u001b[0m\u001b[0moffset\u001b[0m\u001b[1;33m:\u001b[0m\u001b[0mend\u001b[0m\u001b[1;33m]\u001b[0m\u001b[1;33m\u001b[0m\u001b[0m\n\u001b[0;32m---> 16\u001b[0;31m             \u001b[0msess\u001b[0m\u001b[1;33m.\u001b[0m\u001b[0mrun\u001b[0m\u001b[1;33m(\u001b[0m\u001b[0mtraining_operation\u001b[0m\u001b[1;33m,\u001b[0m \u001b[0mfeed_dict\u001b[0m\u001b[1;33m=\u001b[0m\u001b[1;33m{\u001b[0m\u001b[0mx\u001b[0m\u001b[1;33m:\u001b[0m \u001b[0mbatch_x\u001b[0m\u001b[1;33m,\u001b[0m \u001b[0my\u001b[0m\u001b[1;33m:\u001b[0m \u001b[0mbatch_y\u001b[0m\u001b[1;33m}\u001b[0m\u001b[1;33m)\u001b[0m\u001b[1;33m\u001b[0m\u001b[0m\n\u001b[0m\u001b[1;32m     17\u001b[0m \u001b[1;33m\u001b[0m\u001b[0m\n\u001b[1;32m     18\u001b[0m         \u001b[0mvalidation_accuracy\u001b[0m \u001b[1;33m=\u001b[0m \u001b[0mevaluate\u001b[0m\u001b[1;33m(\u001b[0m\u001b[0mX_validate\u001b[0m\u001b[1;33m,\u001b[0m \u001b[0my_validate\u001b[0m\u001b[1;33m)\u001b[0m\u001b[1;33m\u001b[0m\u001b[0m\n",
      "\u001b[0;32mC:\\Users\\doront\\AppData\\Local\\Continuum\\Anaconda3\\lib\\site-packages\\tensorflow\\python\\client\\session.py\u001b[0m in \u001b[0;36mrun\u001b[0;34m(self, fetches, feed_dict, options, run_metadata)\u001b[0m\n\u001b[1;32m    764\u001b[0m     \u001b[1;32mtry\u001b[0m\u001b[1;33m:\u001b[0m\u001b[1;33m\u001b[0m\u001b[0m\n\u001b[1;32m    765\u001b[0m       result = self._run(None, fetches, feed_dict, options_ptr,\n\u001b[0;32m--> 766\u001b[0;31m                          run_metadata_ptr)\n\u001b[0m\u001b[1;32m    767\u001b[0m       \u001b[1;32mif\u001b[0m \u001b[0mrun_metadata\u001b[0m\u001b[1;33m:\u001b[0m\u001b[1;33m\u001b[0m\u001b[0m\n\u001b[1;32m    768\u001b[0m         \u001b[0mproto_data\u001b[0m \u001b[1;33m=\u001b[0m \u001b[0mtf_session\u001b[0m\u001b[1;33m.\u001b[0m\u001b[0mTF_GetBuffer\u001b[0m\u001b[1;33m(\u001b[0m\u001b[0mrun_metadata_ptr\u001b[0m\u001b[1;33m)\u001b[0m\u001b[1;33m\u001b[0m\u001b[0m\n",
      "\u001b[0;32mC:\\Users\\doront\\AppData\\Local\\Continuum\\Anaconda3\\lib\\site-packages\\tensorflow\\python\\client\\session.py\u001b[0m in \u001b[0;36m_run\u001b[0;34m(self, handle, fetches, feed_dict, options, run_metadata)\u001b[0m\n\u001b[1;32m    935\u001b[0m                 ' to a larger type (e.g. int64).')\n\u001b[1;32m    936\u001b[0m \u001b[1;33m\u001b[0m\u001b[0m\n\u001b[0;32m--> 937\u001b[0;31m           \u001b[0mnp_val\u001b[0m \u001b[1;33m=\u001b[0m \u001b[0mnp\u001b[0m\u001b[1;33m.\u001b[0m\u001b[0masarray\u001b[0m\u001b[1;33m(\u001b[0m\u001b[0msubfeed_val\u001b[0m\u001b[1;33m,\u001b[0m \u001b[0mdtype\u001b[0m\u001b[1;33m=\u001b[0m\u001b[0msubfeed_dtype\u001b[0m\u001b[1;33m)\u001b[0m\u001b[1;33m\u001b[0m\u001b[0m\n\u001b[0m\u001b[1;32m    938\u001b[0m \u001b[1;33m\u001b[0m\u001b[0m\n\u001b[1;32m    939\u001b[0m           \u001b[1;32mif\u001b[0m \u001b[1;32mnot\u001b[0m \u001b[0msubfeed_t\u001b[0m\u001b[1;33m.\u001b[0m\u001b[0mget_shape\u001b[0m\u001b[1;33m(\u001b[0m\u001b[1;33m)\u001b[0m\u001b[1;33m.\u001b[0m\u001b[0mis_compatible_with\u001b[0m\u001b[1;33m(\u001b[0m\u001b[0mnp_val\u001b[0m\u001b[1;33m.\u001b[0m\u001b[0mshape\u001b[0m\u001b[1;33m)\u001b[0m\u001b[1;33m:\u001b[0m\u001b[1;33m\u001b[0m\u001b[0m\n",
      "\u001b[0;32mC:\\Users\\doront\\AppData\\Local\\Continuum\\Anaconda3\\lib\\site-packages\\numpy\\core\\numeric.py\u001b[0m in \u001b[0;36masarray\u001b[0;34m(a, dtype, order)\u001b[0m\n\u001b[1;32m    480\u001b[0m \u001b[1;33m\u001b[0m\u001b[0m\n\u001b[1;32m    481\u001b[0m     \"\"\"\n\u001b[0;32m--> 482\u001b[0;31m     \u001b[1;32mreturn\u001b[0m \u001b[0marray\u001b[0m\u001b[1;33m(\u001b[0m\u001b[0ma\u001b[0m\u001b[1;33m,\u001b[0m \u001b[0mdtype\u001b[0m\u001b[1;33m,\u001b[0m \u001b[0mcopy\u001b[0m\u001b[1;33m=\u001b[0m\u001b[1;32mFalse\u001b[0m\u001b[1;33m,\u001b[0m \u001b[0morder\u001b[0m\u001b[1;33m=\u001b[0m\u001b[0morder\u001b[0m\u001b[1;33m)\u001b[0m\u001b[1;33m\u001b[0m\u001b[0m\n\u001b[0m\u001b[1;32m    483\u001b[0m \u001b[1;33m\u001b[0m\u001b[0m\n\u001b[1;32m    484\u001b[0m \u001b[1;32mdef\u001b[0m \u001b[0masanyarray\u001b[0m\u001b[1;33m(\u001b[0m\u001b[0ma\u001b[0m\u001b[1;33m,\u001b[0m \u001b[0mdtype\u001b[0m\u001b[1;33m=\u001b[0m\u001b[1;32mNone\u001b[0m\u001b[1;33m,\u001b[0m \u001b[0morder\u001b[0m\u001b[1;33m=\u001b[0m\u001b[1;32mNone\u001b[0m\u001b[1;33m)\u001b[0m\u001b[1;33m:\u001b[0m\u001b[1;33m\u001b[0m\u001b[0m\n",
      "\u001b[0;31mValueError\u001b[0m: setting an array element with a sequence."
     ]
    }
   ],
   "source": [
    "from sklearn.model_selection import train_test_split\n",
    "# 39209 x 20% = 7840\n",
    "X_train, X_validate, y_train, y_validate = train_test_split(X_train,y_train, test_size=0.2,random_state=0)\n",
    "num_examples = len(X_train)\n",
    "\n",
    "with tf.Session() as sess:\n",
    "    sess.run(tf.global_variables_initializer())\n",
    "    \n",
    "    print(\"Training...\")\n",
    "    print()\n",
    "    for i in range(EPOCHS):\n",
    "        X_train, y_train = shuffle(X_train, y_train)\n",
    "        for offset in range(0, num_examples, BATCH_SIZE):\n",
    "            end = offset + BATCH_SIZE\n",
    "            batch_x, batch_y = X_train[offset:end], y_train[offset:end]\n",
    "            sess.run(training_operation, feed_dict={x: batch_x, y: batch_y})\n",
    "            \n",
    "        validation_accuracy = evaluate(X_validate, y_validate)\n",
    "        print(\"EPOCH {} ...\".format(i+1))\n",
    "        print(\"Validation Accuracy = {:.3f}\".format(validation_accuracy))\n",
    "        print()\n",
    "        \n",
    "    saver.save(sess,'../CarND-Traffic-Sign-Classifier-Project/lenet_traffic_sign_classification.tfdt')\n",
    "    print(\"Model saved\")"
   ]
  },
  {
   "cell_type": "markdown",
   "metadata": {
    "collapsed": true
   },
   "source": [
    "### Testing the trained model\n"
   ]
  },
  {
   "cell_type": "code",
   "execution_count": 26,
   "metadata": {
    "collapsed": false
   },
   "outputs": [
    {
     "name": "stdout",
     "output_type": "stream",
     "text": [
      "Test Accuracy = 0.083\n"
     ]
    }
   ],
   "source": [
    "\n",
    "with tf.Session() as sess:\n",
    "    saver.restore(sess, tf.train.latest_checkpoint('.'))\n",
    "\n",
    "    test_accuracy = evaluate(X_test, y_test)\n",
    "    print(\"Test Accuracy = {:.3f}\".format(test_accuracy))"
=======
    "### Pre-process the Data Set (normalization, grayscale, etc.)"
>>>>>>> origin/master
   ]
  },
  {
   "cell_type": "markdown",
   "metadata": {},
   "source": [
    "Use the code cell (or multiple code cells, if necessary) to implement the first step of your project."
   ]
  },
  {
   "cell_type": "code",
   "execution_count": 4,
   "metadata": {
    "collapsed": true
   },
   "outputs": [],
   "source": [
    "### Preprocess the data here. Preprocessing steps could include normalization, converting to grayscale, etc.\n",
    "### Feel free to use as many code cells as needed."
   ]
  },
  {
   "cell_type": "markdown",
   "metadata": {},
   "source": [
    "### Model Architecture"
   ]
  },
  {
   "cell_type": "code",
   "execution_count": null,
   "metadata": {
    "collapsed": true
   },
   "outputs": [],
   "source": [
    "### Define your architecture here.\n",
    "### Feel free to use as many code cells as needed."
   ]
  },
  {
   "cell_type": "markdown",
   "metadata": {},
   "source": [
    "### Train, Validate and Test the Model"
   ]
  },
  {
   "cell_type": "markdown",
   "metadata": {},
   "source": [
    "A validation set can be used to assess how well the model is performing. A low accuracy on the training and validation\n",
    "sets imply underfitting. A high accuracy on the test set but low accuracy on the validation set implies overfitting."
   ]
  },
  {
   "cell_type": "code",
   "execution_count": 1,
   "metadata": {
    "collapsed": true
   },
   "outputs": [],
   "source": [
    "### Train your model here.\n",
    "### Calculate and report the accuracy on the training and validation set.\n",
    "### Once a final model architecture is selected, \n",
    "### the accuracy on the test set should be calculated and reported as well.\n",
    "### Feel free to use as many code cells as needed."
   ]
  },
  {
   "cell_type": "markdown",
   "metadata": {},
   "source": [
    "---\n",
    "\n",
    "## Step 3: Test a Model on New Images\n",
    "\n",
    "To give yourself more insight into how your model is working, download at least five pictures of German traffic signs from the web and use your model to predict the traffic sign type.\n",
    "\n",
    "You may find `signnames.csv` useful as it contains mappings from the class id (integer) to the actual sign name."
   ]
  },
  {
   "cell_type": "markdown",
   "metadata": {},
   "source": [
    "### Load and Output the Images"
   ]
  },
  {
   "cell_type": "code",
   "execution_count": null,
   "metadata": {
    "collapsed": true
   },
   "outputs": [],
   "source": [
    "### Load the images and plot them here.\n",
    "### Feel free to use as many code cells as needed."
   ]
  },
  {
   "cell_type": "markdown",
   "metadata": {},
   "source": [
    "### Predict the Sign Type for Each Image"
   ]
  },
  {
   "cell_type": "code",
   "execution_count": 3,
   "metadata": {
    "collapsed": true
   },
   "outputs": [],
   "source": [
    "### Run the predictions here and use the model to output the prediction for each image.\n",
    "### Make sure to pre-process the images with the same pre-processing pipeline used earlier.\n",
    "### Feel free to use as many code cells as needed."
   ]
  },
  {
   "cell_type": "markdown",
   "metadata": {},
   "source": [
    "### Analyze Performance"
   ]
  },
  {
   "cell_type": "code",
   "execution_count": 4,
   "metadata": {
    "collapsed": true
   },
   "outputs": [],
   "source": [
    "### Calculate the accuracy for these 5 new images. \n",
    "### For example, if the model predicted 1 out of 5 signs correctly, it's 20% accurate on these new images."
   ]
  },
  {
   "cell_type": "markdown",
   "metadata": {},
   "source": [
    "### Output Top 5 Softmax Probabilities For Each Image Found on the Web"
   ]
  },
  {
   "cell_type": "markdown",
   "metadata": {},
   "source": [
    "For each of the new images, print out the model's softmax probabilities to show the **certainty** of the model's predictions (limit the output to the top 5 probabilities for each image). [`tf.nn.top_k`](https://www.tensorflow.org/versions/r0.12/api_docs/python/nn.html#top_k) could prove helpful here. \n",
    "\n",
    "The example below demonstrates how tf.nn.top_k can be used to find the top k predictions for each image.\n",
    "\n",
    "`tf.nn.top_k` will return the values and indices (class ids) of the top k predictions. So if k=3, for each sign, it'll return the 3 largest probabilities (out of a possible 43) and the correspoding class ids.\n",
    "\n",
    "Take this numpy array as an example. The values in the array represent predictions. The array contains softmax probabilities for five candidate images with six possible classes. `tk.nn.top_k` is used to choose the three classes with the highest probability:\n",
    "\n",
    "```\n",
    "# (5, 6) array\n",
    "a = np.array([[ 0.24879643,  0.07032244,  0.12641572,  0.34763842,  0.07893497,\n",
    "         0.12789202],\n",
    "       [ 0.28086119,  0.27569815,  0.08594638,  0.0178669 ,  0.18063401,\n",
    "         0.15899337],\n",
    "       [ 0.26076848,  0.23664738,  0.08020603,  0.07001922,  0.1134371 ,\n",
    "         0.23892179],\n",
    "       [ 0.11943333,  0.29198961,  0.02605103,  0.26234032,  0.1351348 ,\n",
    "         0.16505091],\n",
    "       [ 0.09561176,  0.34396535,  0.0643941 ,  0.16240774,  0.24206137,\n",
    "         0.09155967]])\n",
    "```\n",
    "\n",
    "Running it through `sess.run(tf.nn.top_k(tf.constant(a), k=3))` produces:\n",
    "\n",
    "```\n",
    "TopKV2(values=array([[ 0.34763842,  0.24879643,  0.12789202],\n",
    "       [ 0.28086119,  0.27569815,  0.18063401],\n",
    "       [ 0.26076848,  0.23892179,  0.23664738],\n",
    "       [ 0.29198961,  0.26234032,  0.16505091],\n",
    "       [ 0.34396535,  0.24206137,  0.16240774]]), indices=array([[3, 0, 5],\n",
    "       [0, 1, 4],\n",
    "       [0, 5, 1],\n",
    "       [1, 3, 5],\n",
    "       [1, 4, 3]], dtype=int32))\n",
    "```\n",
    "\n",
    "Looking just at the first row we get `[ 0.34763842,  0.24879643,  0.12789202]`, you can confirm these are the 3 largest probabilities in `a`. You'll also notice `[3, 0, 5]` are the corresponding indices."
   ]
  },
  {
   "cell_type": "code",
   "execution_count": 6,
   "metadata": {
    "collapsed": true
   },
   "outputs": [],
   "source": [
    "### Print out the top five softmax probabilities for the predictions on the German traffic sign images found on the web. \n",
    "### Feel free to use as many code cells as needed."
   ]
  },
  {
   "cell_type": "markdown",
   "metadata": {},
   "source": [
    "> **Note**: Once you have completed all of the code implementations, you need to finalize your work by exporting the IPython Notebook as an HTML document. Before exporting the notebook to html, all of the code cells need to have been run. You can then export the notebook by using the menu above and navigating to  \\n\",\n",
    "    \"**File -> Download as -> HTML (.html)**. Include the finished document along with this notebook as your submission. "
   ]
  },
  {
   "cell_type": "markdown",
   "metadata": {},
   "source": [
    "### Project Writeup\n",
    "\n",
    "Once you have completed the code implementation, document your results in a project writeup using this [template](https://github.com/udacity/CarND-Traffic-Sign-Classifier-Project/blob/master/writeup_template.md) as a guide. The writeup can be in a markdown or pdf file. "
   ]
  }
 ],
 "metadata": {
  "anaconda-cloud": {},
  "kernelspec": {
   "display_name": "Python [default]",
   "language": "python",
   "name": "python3"
  },
  "language_info": {
   "codemirror_mode": {
    "name": "ipython",
    "version": 3
   },
   "file_extension": ".py",
   "mimetype": "text/x-python",
   "name": "python",
   "nbconvert_exporter": "python",
   "pygments_lexer": "ipython3",
   "version": "3.5.2"
  }
 },
 "nbformat": 4,
 "nbformat_minor": 1
}
